{
 "cells": [
  {
   "cell_type": "markdown",
   "metadata": {},
   "source": [
    "# Hw2: Bias in data\n",
    "The goal of this analysis is to explore the definition of 'bias' through data on Wikipedia articles on political from different countries.\n",
    "\n",
    "I will do an analysis about how the quality of articles about politicians differences between countries. My analysis will constist the following:\n",
    "\n",
    " 1. the countries with the greatest and least coverage of politicians on Wikipedia compared to their population.\n",
    " \n",
    " 2. the countries with the highest and lowest proportion of high quality articles about politicians.\n",
    " \n",
    "I will also write a short reflection for this project"
   ]
  },
  {
   "cell_type": "code",
   "execution_count": 314,
   "metadata": {
    "collapsed": true,
    "deletable": true,
    "editable": true
   },
   "outputs": [],
   "source": [
    "import pandas as pd \n",
    "import numpy as np\n",
    "import requests\n",
    "import csv\n",
    "import matplotlib.pyplot as plt"
   ]
  },
  {
   "cell_type": "markdown",
   "metadata": {},
   "source": [
    "## 1.Getting the article and population data\n",
    "***page_data.csv***:  The wikipedia dataset can be found on [Figshare](https://figshare.com/articles/Untitled_Item/5513449). \n",
    "\n",
    "***Population Mid-2015.csv***:  The population data is on the [Population Research Bureau website](http://www.prb.org/DataFinder/Topic/Rankings.aspx?ind=14). "
   ]
  },
  {
   "cell_type": "markdown",
   "metadata": {},
   "source": [
    "（1） use pandas.read_csv to read Population Mid-2015.csv as datafrme"
   ]
  },
  {
   "cell_type": "code",
   "execution_count": 134,
   "metadata": {
    "collapsed": true,
    "deletable": true,
    "editable": true
   },
   "outputs": [],
   "source": [
    "df_population = pd.read_csv('Population Mid-2015.csv')"
   ]
  },
  {
   "cell_type": "code",
   "execution_count": 354,
   "metadata": {
    "collapsed": false,
    "deletable": true,
    "editable": true
   },
   "outputs": [
    {
     "data": {
      "text/html": [
       "<div>\n",
       "<table border=\"1\" class=\"dataframe\">\n",
       "  <thead>\n",
       "    <tr style=\"text-align: right;\">\n",
       "      <th></th>\n",
       "      <th></th>\n",
       "      <th></th>\n",
       "      <th></th>\n",
       "      <th></th>\n",
       "      <th>Population Mid-2015</th>\n",
       "    </tr>\n",
       "  </thead>\n",
       "  <tbody>\n",
       "    <tr>\n",
       "      <th>Location</th>\n",
       "      <th>Location Type</th>\n",
       "      <th>TimeFrame</th>\n",
       "      <th>Data Type</th>\n",
       "      <th>Data</th>\n",
       "      <td>Footnotes</td>\n",
       "    </tr>\n",
       "    <tr>\n",
       "      <th>Afghanistan</th>\n",
       "      <th>Country</th>\n",
       "      <th>Mid-2015</th>\n",
       "      <th>Number</th>\n",
       "      <th>32,247,000</th>\n",
       "      <td>NaN</td>\n",
       "    </tr>\n",
       "    <tr>\n",
       "      <th>Albania</th>\n",
       "      <th>Country</th>\n",
       "      <th>Mid-2015</th>\n",
       "      <th>Number</th>\n",
       "      <th>2,892,000</th>\n",
       "      <td>NaN</td>\n",
       "    </tr>\n",
       "    <tr>\n",
       "      <th>Algeria</th>\n",
       "      <th>Country</th>\n",
       "      <th>Mid-2015</th>\n",
       "      <th>Number</th>\n",
       "      <th>39,948,000</th>\n",
       "      <td>NaN</td>\n",
       "    </tr>\n",
       "    <tr>\n",
       "      <th>Andorra</th>\n",
       "      <th>Country</th>\n",
       "      <th>Mid-2015</th>\n",
       "      <th>Number</th>\n",
       "      <th>78,000</th>\n",
       "      <td>NaN</td>\n",
       "    </tr>\n",
       "  </tbody>\n",
       "</table>\n",
       "</div>"
      ],
      "text/plain": [
       "                                                         Population Mid-2015\n",
       "Location    Location Type TimeFrame Data Type Data                 Footnotes\n",
       "Afghanistan Country       Mid-2015  Number    32,247,000                 NaN\n",
       "Albania     Country       Mid-2015  Number    2,892,000                  NaN\n",
       "Algeria     Country       Mid-2015  Number    39,948,000                 NaN\n",
       "Andorra     Country       Mid-2015  Number    78,000                     NaN"
      ]
     },
     "execution_count": 354,
     "metadata": {},
     "output_type": "execute_result"
    }
   ],
   "source": [
    "df_population.head()"
   ]
  },
  {
   "cell_type": "markdown",
   "metadata": {},
   "source": [
    "However, The data frame only have one column Population Mid-2015, Thus I decide use another way to read csv file."
   ]
  },
  {
   "cell_type": "code",
   "execution_count": 355,
   "metadata": {
    "collapsed": false
   },
   "outputs": [
    {
     "data": {
      "text/plain": [
       "[['Population Mid-2015'],\n",
       " [],\n",
       " ['Location', 'Location Type', 'TimeFrame', 'Data Type', 'Data', 'Footnotes'],\n",
       " ['Afghanistan', 'Country', 'Mid-2015', 'Number', '32,247,000', ''],\n",
       " ['Albania', 'Country', 'Mid-2015', 'Number', '2,892,000', '']]"
      ]
     },
     "execution_count": 355,
     "metadata": {},
     "output_type": "execute_result"
    }
   ],
   "source": [
    "#read data\n",
    "csv_population=[]\n",
    "with open ('Population Mid-2015.csv') as csvfile:\n",
    "    read = csv.reader(csvfile)\n",
    "    for row in read :\n",
    "        csv_population.append(row)\n",
    "csv_population[:5]"
   ]
  },
  {
   "cell_type": "markdown",
   "metadata": {},
   "source": [
    "(2) use pandas.read_csv to load page_data.csv as dataframe"
   ]
  },
  {
   "cell_type": "code",
   "execution_count": 356,
   "metadata": {
    "collapsed": false,
    "deletable": true,
    "editable": true
   },
   "outputs": [
    {
     "data": {
      "text/html": [
       "<div>\n",
       "<table border=\"1\" class=\"dataframe\">\n",
       "  <thead>\n",
       "    <tr style=\"text-align: right;\">\n",
       "      <th></th>\n",
       "      <th>page</th>\n",
       "      <th>country</th>\n",
       "      <th>rev_id</th>\n",
       "    </tr>\n",
       "  </thead>\n",
       "  <tbody>\n",
       "    <tr>\n",
       "      <th>0</th>\n",
       "      <td>Template:ZambiaProvincialMinisters</td>\n",
       "      <td>Zambia</td>\n",
       "      <td>235107991</td>\n",
       "    </tr>\n",
       "    <tr>\n",
       "      <th>1</th>\n",
       "      <td>Bir I of Kanem</td>\n",
       "      <td>Chad</td>\n",
       "      <td>355319463</td>\n",
       "    </tr>\n",
       "    <tr>\n",
       "      <th>2</th>\n",
       "      <td>Template:Zimbabwe-politician-stub</td>\n",
       "      <td>Zimbabwe</td>\n",
       "      <td>391862046</td>\n",
       "    </tr>\n",
       "    <tr>\n",
       "      <th>3</th>\n",
       "      <td>Template:Uganda-politician-stub</td>\n",
       "      <td>Uganda</td>\n",
       "      <td>391862070</td>\n",
       "    </tr>\n",
       "    <tr>\n",
       "      <th>4</th>\n",
       "      <td>Template:Namibia-politician-stub</td>\n",
       "      <td>Namibia</td>\n",
       "      <td>391862409</td>\n",
       "    </tr>\n",
       "  </tbody>\n",
       "</table>\n",
       "</div>"
      ],
      "text/plain": [
       "                                 page   country     rev_id\n",
       "0  Template:ZambiaProvincialMinisters    Zambia  235107991\n",
       "1                      Bir I of Kanem      Chad  355319463\n",
       "2   Template:Zimbabwe-politician-stub  Zimbabwe  391862046\n",
       "3     Template:Uganda-politician-stub    Uganda  391862070\n",
       "4    Template:Namibia-politician-stub   Namibia  391862409"
      ]
     },
     "execution_count": 356,
     "metadata": {},
     "output_type": "execute_result"
    }
   ],
   "source": [
    "df_page = pd.read_csv('country/data/page_data.csv')\n",
    "df_page.head()"
   ]
  },
  {
   "cell_type": "markdown",
   "metadata": {},
   "source": [
    "### 2. Getting article quality predictions\n",
    "The next step is to get the  quality scores for each article. For this step, I am  using a  API endpoint called [ORES](https://ores.wikimedia.org/v3/#!/scoring/get_v3_scores_context_revid_model) (\"Objective Revision Evaluation Service\"). ORES estimates the quality of an article (at a particular point in time), and assigns a series of probabilities that the article is in one of 6 quality categories. The options are, from best to worst:\n",
    "\n",
    " 1. FA - Featured article\n",
    " 2. GA - Good article\n",
    " 3. B - B-class article\n",
    " 4. C - C-class article\n",
    " 5. Start - Start-class article\n",
    " 6. Stub - Stub-class article"
   ]
  },
  {
   "cell_type": "markdown",
   "metadata": {},
   "source": [
    "Here, I set up endpoint with parameter and headers for calling API. Then I use the rev_id column to get the prediction and I use 100 rev_id for each iteration. Thus I got a list of prediction score. "
   ]
  },
  {
   "cell_type": "code",
   "execution_count": 181,
   "metadata": {
    "collapsed": false,
    "deletable": true,
    "editable": true
   },
   "outputs": [],
   "source": [
    "#set up endpoint and headers\n",
    "endpoint = 'https://ores.wikimedia.org/v3/scores/{context}?model={model}&revids={revids}'\n",
    "headers={'User-Agent' : 'https://github.com/runlaizeng', 'From' : 'runlaiz@uw.edu'}\n",
    "mylist = []\n",
    "start = 0\n",
    "while start < len(df_page['rev_id']):\n",
    "    #passing 100 rev id every time\n",
    "    end = min(start + 100,len(df_page['rev_id']))\n",
    "    params = {'context' : 'enwiki',\n",
    "              'model' : 'wp10',\n",
    "              'revids'  : '|'.join (str(x) for x in df_page['rev_id'][start:end])}\n",
    "    api_call = requests.get(endpoint.format(**params))\n",
    "    response = api_call.json()\n",
    "    for rev_id in response['enwiki']['scores']:\n",
    "        #some article does't have score, so this is to avoid nah value\n",
    "        if 'score' in response['enwiki']['scores'][rev_id]['wp10']:\n",
    "            article_quality = response['enwiki']['scores'][rev_id]['wp10']['score']['prediction']\n",
    "            mylist.append(article_quality)\n",
    "        else :\n",
    "            mylist.append(None)\n",
    "    start = start + 100"
   ]
  },
  {
   "cell_type": "code",
   "execution_count": 190,
   "metadata": {
    "collapsed": false,
    "deletable": true,
    "editable": true
   },
   "outputs": [
    {
     "data": {
      "text/plain": [
       "47197"
      ]
     },
     "execution_count": 190,
     "metadata": {},
     "output_type": "execute_result"
    }
   ],
   "source": [
    "len(mylist)"
   ]
  },
  {
   "cell_type": "markdown",
   "metadata": {},
   "source": [
    "### 3.Combining the datasets"
   ]
  },
  {
   "cell_type": "markdown",
   "metadata": {},
   "source": [
    "The next step is to merge the wikipedia data and population data together. I will use inner join to join two dataset.\n"
   ]
  },
  {
   "cell_type": "code",
   "execution_count": 357,
   "metadata": {
    "collapsed": false,
    "deletable": true,
    "editable": true
   },
   "outputs": [],
   "source": [
    "#first append the article_quality to page data\n",
    "df_page=df_page.assign(article_quality=mylist)"
   ]
  },
  {
   "cell_type": "code",
   "execution_count": 358,
   "metadata": {
    "collapsed": false,
    "deletable": true,
    "editable": true
   },
   "outputs": [
    {
     "data": {
      "text/html": [
       "<div>\n",
       "<table border=\"1\" class=\"dataframe\">\n",
       "  <thead>\n",
       "    <tr style=\"text-align: right;\">\n",
       "      <th></th>\n",
       "      <th>page</th>\n",
       "      <th>country</th>\n",
       "      <th>rev_id</th>\n",
       "      <th>article_quality</th>\n",
       "    </tr>\n",
       "  </thead>\n",
       "  <tbody>\n",
       "    <tr>\n",
       "      <th>0</th>\n",
       "      <td>Template:ZambiaProvincialMinisters</td>\n",
       "      <td>Zambia</td>\n",
       "      <td>235107991</td>\n",
       "      <td>Stub</td>\n",
       "    </tr>\n",
       "    <tr>\n",
       "      <th>1</th>\n",
       "      <td>Bir I of Kanem</td>\n",
       "      <td>Chad</td>\n",
       "      <td>355319463</td>\n",
       "      <td>Stub</td>\n",
       "    </tr>\n",
       "    <tr>\n",
       "      <th>2</th>\n",
       "      <td>Template:Zimbabwe-politician-stub</td>\n",
       "      <td>Zimbabwe</td>\n",
       "      <td>391862046</td>\n",
       "      <td>Stub</td>\n",
       "    </tr>\n",
       "    <tr>\n",
       "      <th>3</th>\n",
       "      <td>Template:Uganda-politician-stub</td>\n",
       "      <td>Uganda</td>\n",
       "      <td>391862070</td>\n",
       "      <td>Stub</td>\n",
       "    </tr>\n",
       "    <tr>\n",
       "      <th>4</th>\n",
       "      <td>Template:Namibia-politician-stub</td>\n",
       "      <td>Namibia</td>\n",
       "      <td>391862409</td>\n",
       "      <td>Stub</td>\n",
       "    </tr>\n",
       "  </tbody>\n",
       "</table>\n",
       "</div>"
      ],
      "text/plain": [
       "                                 page   country     rev_id article_quality\n",
       "0  Template:ZambiaProvincialMinisters    Zambia  235107991            Stub\n",
       "1                      Bir I of Kanem      Chad  355319463            Stub\n",
       "2   Template:Zimbabwe-politician-stub  Zimbabwe  391862046            Stub\n",
       "3     Template:Uganda-politician-stub    Uganda  391862070            Stub\n",
       "4    Template:Namibia-politician-stub   Namibia  391862409            Stub"
      ]
     },
     "execution_count": 358,
     "metadata": {},
     "output_type": "execute_result"
    }
   ],
   "source": [
    "df_page[:5]"
   ]
  },
  {
   "cell_type": "code",
   "execution_count": 360,
   "metadata": {
    "collapsed": false,
    "deletable": true,
    "editable": true
   },
   "outputs": [
    {
     "data": {
      "text/plain": [
       "['Afghanistan', 'Albania', 'Algeria', 'Andorra', 'Angola']"
      ]
     },
     "execution_count": 360,
     "metadata": {},
     "output_type": "execute_result"
    }
   ],
   "source": [
    "#extract country from population data set\n",
    "country = []\n",
    "for i in range(3,len(csv_population)-1):\n",
    "    country.append(csv_population[i][0])\n",
    "country[:5]"
   ]
  },
  {
   "cell_type": "code",
   "execution_count": 362,
   "metadata": {
    "collapsed": false
   },
   "outputs": [
    {
     "data": {
      "text/plain": [
       "[32247000, 2892000, 39948000, 78000, 25000000]"
      ]
     },
     "execution_count": 362,
     "metadata": {},
     "output_type": "execute_result"
    }
   ],
   "source": [
    "#extract population from population data set\n",
    "population=[]\n",
    "for i in range(3,len(csv_population)-1):\n",
    "    population.append(int(csv_population[i][4].replace(',','')))\n",
    "population[:5]"
   ]
  },
  {
   "cell_type": "code",
   "execution_count": 363,
   "metadata": {
    "collapsed": false
   },
   "outputs": [
    {
     "data": {
      "text/html": [
       "<div>\n",
       "<table border=\"1\" class=\"dataframe\">\n",
       "  <thead>\n",
       "    <tr style=\"text-align: right;\">\n",
       "      <th></th>\n",
       "      <th>country</th>\n",
       "      <th>population</th>\n",
       "    </tr>\n",
       "  </thead>\n",
       "  <tbody>\n",
       "    <tr>\n",
       "      <th>0</th>\n",
       "      <td>Afghanistan</td>\n",
       "      <td>32247000</td>\n",
       "    </tr>\n",
       "    <tr>\n",
       "      <th>1</th>\n",
       "      <td>Albania</td>\n",
       "      <td>2892000</td>\n",
       "    </tr>\n",
       "    <tr>\n",
       "      <th>2</th>\n",
       "      <td>Algeria</td>\n",
       "      <td>39948000</td>\n",
       "    </tr>\n",
       "    <tr>\n",
       "      <th>3</th>\n",
       "      <td>Andorra</td>\n",
       "      <td>78000</td>\n",
       "    </tr>\n",
       "    <tr>\n",
       "      <th>4</th>\n",
       "      <td>Angola</td>\n",
       "      <td>25000000</td>\n",
       "    </tr>\n",
       "  </tbody>\n",
       "</table>\n",
       "</div>"
      ],
      "text/plain": [
       "       country  population\n",
       "0  Afghanistan    32247000\n",
       "1      Albania     2892000\n",
       "2      Algeria    39948000\n",
       "3      Andorra       78000\n",
       "4       Angola    25000000"
      ]
     },
     "execution_count": 363,
     "metadata": {},
     "output_type": "execute_result"
    }
   ],
   "source": [
    "#make them as dataframe\n",
    "df_country_population = pd.DataFrame({'country' : country,\n",
    "                                     'population' : population})\n",
    "df_country_population.head()"
   ]
  },
  {
   "cell_type": "code",
   "execution_count": 365,
   "metadata": {
    "collapsed": false
   },
   "outputs": [
    {
     "data": {
      "text/html": [
       "<div>\n",
       "<table border=\"1\" class=\"dataframe\">\n",
       "  <thead>\n",
       "    <tr style=\"text-align: right;\">\n",
       "      <th></th>\n",
       "      <th>page</th>\n",
       "      <th>country</th>\n",
       "      <th>rev_id</th>\n",
       "      <th>article_quality</th>\n",
       "      <th>population</th>\n",
       "    </tr>\n",
       "  </thead>\n",
       "  <tbody>\n",
       "    <tr>\n",
       "      <th>0</th>\n",
       "      <td>Template:ZambiaProvincialMinisters</td>\n",
       "      <td>Zambia</td>\n",
       "      <td>235107991</td>\n",
       "      <td>Stub</td>\n",
       "      <td>15473900</td>\n",
       "    </tr>\n",
       "    <tr>\n",
       "      <th>1</th>\n",
       "      <td>Gladys Lundwe</td>\n",
       "      <td>Zambia</td>\n",
       "      <td>757566606</td>\n",
       "      <td>Stub</td>\n",
       "      <td>15473900</td>\n",
       "    </tr>\n",
       "    <tr>\n",
       "      <th>2</th>\n",
       "      <td>Mwamba Luchembe</td>\n",
       "      <td>Zambia</td>\n",
       "      <td>764848643</td>\n",
       "      <td>Stub</td>\n",
       "      <td>15473900</td>\n",
       "    </tr>\n",
       "    <tr>\n",
       "      <th>3</th>\n",
       "      <td>Thandiwe Banda</td>\n",
       "      <td>Zambia</td>\n",
       "      <td>768166426</td>\n",
       "      <td>Start</td>\n",
       "      <td>15473900</td>\n",
       "    </tr>\n",
       "    <tr>\n",
       "      <th>4</th>\n",
       "      <td>Sylvester Chisembele</td>\n",
       "      <td>Zambia</td>\n",
       "      <td>776082926</td>\n",
       "      <td>C</td>\n",
       "      <td>15473900</td>\n",
       "    </tr>\n",
       "  </tbody>\n",
       "</table>\n",
       "</div>"
      ],
      "text/plain": [
       "                                 page country     rev_id article_quality  \\\n",
       "0  Template:ZambiaProvincialMinisters  Zambia  235107991            Stub   \n",
       "1                       Gladys Lundwe  Zambia  757566606            Stub   \n",
       "2                     Mwamba Luchembe  Zambia  764848643            Stub   \n",
       "3                      Thandiwe Banda  Zambia  768166426           Start   \n",
       "4                Sylvester Chisembele  Zambia  776082926               C   \n",
       "\n",
       "   population  \n",
       "0    15473900  \n",
       "1    15473900  \n",
       "2    15473900  \n",
       "3    15473900  \n",
       "4    15473900  "
      ]
     },
     "execution_count": 365,
     "metadata": {},
     "output_type": "execute_result"
    }
   ],
   "source": [
    "#merge two datasets togather with inner join\n",
    "df=pd.merge(df_page,df_country_population,on=\"country\", how='inner')\n",
    "df.head()"
   ]
  },
  {
   "cell_type": "code",
   "execution_count": 366,
   "metadata": {
    "collapsed": false
   },
   "outputs": [
    {
     "data": {
      "text/html": [
       "<div>\n",
       "<table border=\"1\" class=\"dataframe\">\n",
       "  <thead>\n",
       "    <tr style=\"text-align: right;\">\n",
       "      <th></th>\n",
       "      <th>country</th>\n",
       "      <th>article_name</th>\n",
       "      <th>revision_id</th>\n",
       "      <th>article_quality</th>\n",
       "      <th>population</th>\n",
       "    </tr>\n",
       "  </thead>\n",
       "  <tbody>\n",
       "    <tr>\n",
       "      <th>0</th>\n",
       "      <td>Zambia</td>\n",
       "      <td>Template:ZambiaProvincialMinisters</td>\n",
       "      <td>235107991</td>\n",
       "      <td>Stub</td>\n",
       "      <td>15473900</td>\n",
       "    </tr>\n",
       "    <tr>\n",
       "      <th>1</th>\n",
       "      <td>Zambia</td>\n",
       "      <td>Gladys Lundwe</td>\n",
       "      <td>757566606</td>\n",
       "      <td>Stub</td>\n",
       "      <td>15473900</td>\n",
       "    </tr>\n",
       "    <tr>\n",
       "      <th>2</th>\n",
       "      <td>Zambia</td>\n",
       "      <td>Mwamba Luchembe</td>\n",
       "      <td>764848643</td>\n",
       "      <td>Stub</td>\n",
       "      <td>15473900</td>\n",
       "    </tr>\n",
       "    <tr>\n",
       "      <th>3</th>\n",
       "      <td>Zambia</td>\n",
       "      <td>Thandiwe Banda</td>\n",
       "      <td>768166426</td>\n",
       "      <td>Start</td>\n",
       "      <td>15473900</td>\n",
       "    </tr>\n",
       "    <tr>\n",
       "      <th>4</th>\n",
       "      <td>Zambia</td>\n",
       "      <td>Sylvester Chisembele</td>\n",
       "      <td>776082926</td>\n",
       "      <td>C</td>\n",
       "      <td>15473900</td>\n",
       "    </tr>\n",
       "  </tbody>\n",
       "</table>\n",
       "</div>"
      ],
      "text/plain": [
       "  country                        article_name  revision_id article_quality  \\\n",
       "0  Zambia  Template:ZambiaProvincialMinisters    235107991            Stub   \n",
       "1  Zambia                       Gladys Lundwe    757566606            Stub   \n",
       "2  Zambia                     Mwamba Luchembe    764848643            Stub   \n",
       "3  Zambia                      Thandiwe Banda    768166426           Start   \n",
       "4  Zambia                Sylvester Chisembele    776082926               C   \n",
       "\n",
       "   population  \n",
       "0    15473900  \n",
       "1    15473900  \n",
       "2    15473900  \n",
       "3    15473900  \n",
       "4    15473900  "
      ]
     },
     "execution_count": 366,
     "metadata": {},
     "output_type": "execute_result"
    }
   ],
   "source": [
    "#rename the columns and reorder the columns\n",
    "df.columns=[\"article_name\",\"country\",\"revision_id\",\"article_quality\",\"population\"]\n",
    "df=df[['country','article_name','revision_id','article_quality','population']]\n",
    "df.head()"
   ]
  },
  {
   "cell_type": "code",
   "execution_count": 367,
   "metadata": {
    "collapsed": true
   },
   "outputs": [],
   "source": [
    "#save it as csv file\n",
    "df.to_csv('final.csv', sep=',')"
   ]
  },
  {
   "cell_type": "markdown",
   "metadata": {},
   "source": [
    "### 4. Analysis\n",
    "I will perform analysis of calculating the percentageof articles per populationn and high quality articles rate for each country.\n",
    "#### (1) Article per population: \n",
    "Articles per population for a country means the percentage of generating political article from population.\n",
    "\n",
    "For example, the country has a population of 10,000 people, there are 100 articles about politicians , then the percentage of articles per population would be 1%.\n"
   ]
  },
  {
   "cell_type": "code",
   "execution_count": 370,
   "metadata": {
    "collapsed": false
   },
   "outputs": [
    {
     "data": {
      "text/plain": [
       "country\n",
       "Afghanistan    0.001014\n",
       "Albania        0.015906\n",
       "Algeria        0.000298\n",
       "Andorra        0.043590\n",
       "Angola         0.000440\n",
       "dtype: float64"
      ]
     },
     "execution_count": 370,
     "metadata": {},
     "output_type": "execute_result"
    }
   ],
   "source": [
    "#first get count number of article group by country\n",
    "article_count_by_country = df.groupby(['country'])['article_name'].count()\n",
    "#then get the population grouby by country\n",
    "population_by_contry = df.groupby(['country'])['population'].mean()\n",
    "#then count/population\n",
    "article_per_population = article_count_by_country/population_by_contry*100\n",
    "article_per_population.head()"
   ]
  },
  {
   "cell_type": "code",
   "execution_count": 371,
   "metadata": {
    "collapsed": false
   },
   "outputs": [
    {
     "data": {
      "text/plain": [
       "country\n",
       "Afghanistan    5.892021e-07\n",
       "Albania        1.728907e-06\n",
       "Algeria        7.509763e-08\n",
       "Andorra        0.000000e+00\n",
       "Angola         8.000000e-08\n",
       "dtype: float64"
      ]
     },
     "execution_count": 371,
     "metadata": {},
     "output_type": "execute_result"
    }
   ],
   "source": [
    "#get the df for only FA and GA, and get the count number group by country\n",
    "df_high_quality = df[(df['article_quality']=='FA')|(df['article_quality']=='GA')]\n",
    "high_quality_count_per_country = df_high_quality.groupby(['country'])['article_name'].count()\n",
    "hight_quality_per_country = high_quality_count_per_country/population_by_contry\n",
    "hight_quality_per_country = hight_quality_per_country.replace('NaN',0)\n",
    "hight_quality_per_country.head()"
   ]
  },
  {
   "cell_type": "markdown",
   "metadata": {},
   "source": [
    "### 5.Tables"
   ]
  },
  {
   "cell_type": "markdown",
   "metadata": {},
   "source": [
    "I will generate four tables for analyzing the bias. The four table are blow:\n",
    "\n",
    " 1. 10 highest-ranked countries in terms of number of politician articles as a proportion of country population\n",
    " 2. 10 lowest-ranked countries in terms of number of politician articles as a proportion of country population\n",
    " 3. 10 highest-ranked countries in terms of number of GA and FA-quality articles as a proportion of all articles about politicians from that country\n",
    " 4. 10 lowest-ranked countries in terms of number of GA and FA-quality articles as a proportion of all articles about politicians from that country"
   ]
  },
  {
   "cell_type": "markdown",
   "metadata": {},
   "source": [
    "#### (1) 10 highest-ranked countries in terms of number of politician articles as a proportion of country population\n",
    "generating the table for 10 highest rank countries by articles per country"
   ]
  },
  {
   "cell_type": "code",
   "execution_count": 350,
   "metadata": {
    "collapsed": false
   },
   "outputs": [
    {
     "data": {
      "text/html": [
       "<div>\n",
       "<table border=\"1\" class=\"dataframe\">\n",
       "  <thead>\n",
       "    <tr style=\"text-align: right;\">\n",
       "      <th></th>\n",
       "      <th>country</th>\n",
       "      <th>percentage</th>\n",
       "    </tr>\n",
       "  </thead>\n",
       "  <tbody>\n",
       "    <tr>\n",
       "      <th>0</th>\n",
       "      <td>Nauru</td>\n",
       "      <td>0.488029</td>\n",
       "    </tr>\n",
       "    <tr>\n",
       "      <th>1</th>\n",
       "      <td>Tuvalu</td>\n",
       "      <td>0.466102</td>\n",
       "    </tr>\n",
       "    <tr>\n",
       "      <th>2</th>\n",
       "      <td>San Marino</td>\n",
       "      <td>0.248485</td>\n",
       "    </tr>\n",
       "    <tr>\n",
       "      <th>3</th>\n",
       "      <td>Monaco</td>\n",
       "      <td>0.105020</td>\n",
       "    </tr>\n",
       "    <tr>\n",
       "      <th>4</th>\n",
       "      <td>Liechtenstein</td>\n",
       "      <td>0.077189</td>\n",
       "    </tr>\n",
       "    <tr>\n",
       "      <th>5</th>\n",
       "      <td>Marshall Islands</td>\n",
       "      <td>0.067273</td>\n",
       "    </tr>\n",
       "    <tr>\n",
       "      <th>6</th>\n",
       "      <td>Iceland</td>\n",
       "      <td>0.062268</td>\n",
       "    </tr>\n",
       "    <tr>\n",
       "      <th>7</th>\n",
       "      <td>Tonga</td>\n",
       "      <td>0.060987</td>\n",
       "    </tr>\n",
       "    <tr>\n",
       "      <th>8</th>\n",
       "      <td>Andorra</td>\n",
       "      <td>0.043590</td>\n",
       "    </tr>\n",
       "    <tr>\n",
       "      <th>9</th>\n",
       "      <td>Federated States of Micronesia</td>\n",
       "      <td>0.036893</td>\n",
       "    </tr>\n",
       "  </tbody>\n",
       "</table>\n",
       "</div>"
      ],
      "text/plain": [
       "                          country  percentage\n",
       "0                           Nauru    0.488029\n",
       "1                          Tuvalu    0.466102\n",
       "2                      San Marino    0.248485\n",
       "3                          Monaco    0.105020\n",
       "4                   Liechtenstein    0.077189\n",
       "5                Marshall Islands    0.067273\n",
       "6                         Iceland    0.062268\n",
       "7                           Tonga    0.060987\n",
       "8                         Andorra    0.043590\n",
       "9  Federated States of Micronesia    0.036893"
      ]
     },
     "execution_count": 350,
     "metadata": {},
     "output_type": "execute_result"
    }
   ],
   "source": [
    "ten_highest_country = article_per_population.sort_values(ascending=False)[:10]\n",
    "df_10_highest_rank_country = pd.DataFrame({\"country\" : ten_highest_country.index,\n",
    "                                            \"percentage\" :ten_highest_country.values})\n",
    "df_10_highest_rank_country"
   ]
  },
  {
   "cell_type": "markdown",
   "metadata": {},
   "source": [
    "#### (2)10 lowest-ranked countries in terms of number of politician articles as a proportion of country population\n",
    "generating the table for 10 lowest rank countries by articles per country"
   ]
  },
  {
   "cell_type": "code",
   "execution_count": 349,
   "metadata": {
    "collapsed": false
   },
   "outputs": [
    {
     "data": {
      "text/html": [
       "<div>\n",
       "<table border=\"1\" class=\"dataframe\">\n",
       "  <thead>\n",
       "    <tr style=\"text-align: right;\">\n",
       "      <th></th>\n",
       "      <th>country</th>\n",
       "      <th>percentage</th>\n",
       "    </tr>\n",
       "  </thead>\n",
       "  <tbody>\n",
       "    <tr>\n",
       "      <th>0</th>\n",
       "      <td>India</td>\n",
       "      <td>0.000075</td>\n",
       "    </tr>\n",
       "    <tr>\n",
       "      <th>1</th>\n",
       "      <td>China</td>\n",
       "      <td>0.000083</td>\n",
       "    </tr>\n",
       "    <tr>\n",
       "      <th>2</th>\n",
       "      <td>Indonesia</td>\n",
       "      <td>0.000084</td>\n",
       "    </tr>\n",
       "    <tr>\n",
       "      <th>3</th>\n",
       "      <td>Uzbekistan</td>\n",
       "      <td>0.000093</td>\n",
       "    </tr>\n",
       "    <tr>\n",
       "      <th>4</th>\n",
       "      <td>Ethiopia</td>\n",
       "      <td>0.000107</td>\n",
       "    </tr>\n",
       "    <tr>\n",
       "      <th>5</th>\n",
       "      <td>Korea, North</td>\n",
       "      <td>0.000156</td>\n",
       "    </tr>\n",
       "    <tr>\n",
       "      <th>6</th>\n",
       "      <td>Zambia</td>\n",
       "      <td>0.000168</td>\n",
       "    </tr>\n",
       "    <tr>\n",
       "      <th>7</th>\n",
       "      <td>Thailand</td>\n",
       "      <td>0.000172</td>\n",
       "    </tr>\n",
       "    <tr>\n",
       "      <th>8</th>\n",
       "      <td>Congo, Dem. Rep. of</td>\n",
       "      <td>0.000194</td>\n",
       "    </tr>\n",
       "    <tr>\n",
       "      <th>9</th>\n",
       "      <td>Bangladesh</td>\n",
       "      <td>0.000202</td>\n",
       "    </tr>\n",
       "  </tbody>\n",
       "</table>\n",
       "</div>"
      ],
      "text/plain": [
       "               country  percentage\n",
       "0                India    0.000075\n",
       "1                China    0.000083\n",
       "2            Indonesia    0.000084\n",
       "3           Uzbekistan    0.000093\n",
       "4             Ethiopia    0.000107\n",
       "5         Korea, North    0.000156\n",
       "6               Zambia    0.000168\n",
       "7             Thailand    0.000172\n",
       "8  Congo, Dem. Rep. of    0.000194\n",
       "9           Bangladesh    0.000202"
      ]
     },
     "execution_count": 349,
     "metadata": {},
     "output_type": "execute_result"
    }
   ],
   "source": [
    "ten_lowest_article_country = article_per_population.sort_values()[:10]\n",
    "df_10_lowest_rank_country = pd.DataFrame({\"country\" : ten_lowest_article_country.index,\n",
    "                                        \"percentage\" :ten_lowest_article_country.values})\n",
    "df_10_lowest_rank_country"
   ]
  },
  {
   "cell_type": "markdown",
   "metadata": {},
   "source": [
    "#### (3) 10 highest-ranked countries in terms of number of GA and FA-quality articles as a proportion of all articles about politicians from that country"
   ]
  },
  {
   "cell_type": "code",
   "execution_count": 348,
   "metadata": {
    "collapsed": false,
    "scrolled": true
   },
   "outputs": [
    {
     "data": {
      "text/html": [
       "<div>\n",
       "<table border=\"1\" class=\"dataframe\">\n",
       "  <thead>\n",
       "    <tr style=\"text-align: right;\">\n",
       "      <th></th>\n",
       "      <th>country</th>\n",
       "      <th>percentage</th>\n",
       "    </tr>\n",
       "  </thead>\n",
       "  <tbody>\n",
       "    <tr>\n",
       "      <th>0</th>\n",
       "      <td>Tuvalu</td>\n",
       "      <td>0.000085</td>\n",
       "    </tr>\n",
       "    <tr>\n",
       "      <th>1</th>\n",
       "      <td>Vanuatu</td>\n",
       "      <td>0.000011</td>\n",
       "    </tr>\n",
       "    <tr>\n",
       "      <th>2</th>\n",
       "      <td>Iceland</td>\n",
       "      <td>0.000009</td>\n",
       "    </tr>\n",
       "    <tr>\n",
       "      <th>3</th>\n",
       "      <td>Grenada</td>\n",
       "      <td>0.000009</td>\n",
       "    </tr>\n",
       "    <tr>\n",
       "      <th>4</th>\n",
       "      <td>Ireland</td>\n",
       "      <td>0.000007</td>\n",
       "    </tr>\n",
       "    <tr>\n",
       "      <th>5</th>\n",
       "      <td>Maldives</td>\n",
       "      <td>0.000006</td>\n",
       "    </tr>\n",
       "    <tr>\n",
       "      <th>6</th>\n",
       "      <td>Bhutan</td>\n",
       "      <td>0.000004</td>\n",
       "    </tr>\n",
       "    <tr>\n",
       "      <th>7</th>\n",
       "      <td>Gabon</td>\n",
       "      <td>0.000003</td>\n",
       "    </tr>\n",
       "    <tr>\n",
       "      <th>8</th>\n",
       "      <td>Montenegro</td>\n",
       "      <td>0.000003</td>\n",
       "    </tr>\n",
       "    <tr>\n",
       "      <th>9</th>\n",
       "      <td>Palestinian Territory</td>\n",
       "      <td>0.000003</td>\n",
       "    </tr>\n",
       "  </tbody>\n",
       "</table>\n",
       "</div>"
      ],
      "text/plain": [
       "                 country  percentage\n",
       "0                 Tuvalu    0.000085\n",
       "1                Vanuatu    0.000011\n",
       "2                Iceland    0.000009\n",
       "3                Grenada    0.000009\n",
       "4                Ireland    0.000007\n",
       "5               Maldives    0.000006\n",
       "6                 Bhutan    0.000004\n",
       "7                  Gabon    0.000003\n",
       "8             Montenegro    0.000003\n",
       "9  Palestinian Territory    0.000003"
      ]
     },
     "execution_count": 348,
     "metadata": {},
     "output_type": "execute_result"
    }
   ],
   "source": [
    "ten_highest_quality_country = hight_quality_per_country.sort_values(ascending=False)[:10]\n",
    "df_10_highest_quality_country = pd.DataFrame({\"country\" : ten_highest_quality_country.index,\n",
    "                                                                    \"percentage\" :ten_highest_quality_country.values})\n",
    "df_10_highest_quality_country"
   ]
  },
  {
   "cell_type": "markdown",
   "metadata": {},
   "source": [
    "#### （4） 10 lowest-ranked countries in terms of number of GA and FA-quality articles as a proportion of all articles about politicians from that country"
   ]
  },
  {
   "cell_type": "code",
   "execution_count": 346,
   "metadata": {
    "collapsed": false
   },
   "outputs": [
    {
     "data": {
      "text/html": [
       "<div>\n",
       "<table border=\"1\" class=\"dataframe\">\n",
       "  <thead>\n",
       "    <tr style=\"text-align: right;\">\n",
       "      <th></th>\n",
       "      <th>country</th>\n",
       "      <th>percentage</th>\n",
       "    </tr>\n",
       "  </thead>\n",
       "  <tbody>\n",
       "    <tr>\n",
       "      <th>0</th>\n",
       "      <td>Guyana</td>\n",
       "      <td>0.0</td>\n",
       "    </tr>\n",
       "    <tr>\n",
       "      <th>1</th>\n",
       "      <td>Mozambique</td>\n",
       "      <td>0.0</td>\n",
       "    </tr>\n",
       "    <tr>\n",
       "      <th>2</th>\n",
       "      <td>Kazakhstan</td>\n",
       "      <td>0.0</td>\n",
       "    </tr>\n",
       "    <tr>\n",
       "      <th>3</th>\n",
       "      <td>Kiribati</td>\n",
       "      <td>0.0</td>\n",
       "    </tr>\n",
       "    <tr>\n",
       "      <th>4</th>\n",
       "      <td>Seychelles</td>\n",
       "      <td>0.0</td>\n",
       "    </tr>\n",
       "    <tr>\n",
       "      <th>5</th>\n",
       "      <td>Burundi</td>\n",
       "      <td>0.0</td>\n",
       "    </tr>\n",
       "    <tr>\n",
       "      <th>6</th>\n",
       "      <td>Monaco</td>\n",
       "      <td>0.0</td>\n",
       "    </tr>\n",
       "    <tr>\n",
       "      <th>7</th>\n",
       "      <td>Dominica</td>\n",
       "      <td>0.0</td>\n",
       "    </tr>\n",
       "    <tr>\n",
       "      <th>8</th>\n",
       "      <td>Nauru</td>\n",
       "      <td>0.0</td>\n",
       "    </tr>\n",
       "    <tr>\n",
       "      <th>9</th>\n",
       "      <td>Djibouti</td>\n",
       "      <td>0.0</td>\n",
       "    </tr>\n",
       "  </tbody>\n",
       "</table>\n",
       "</div>"
      ],
      "text/plain": [
       "      country  percentage\n",
       "0      Guyana         0.0\n",
       "1  Mozambique         0.0\n",
       "2  Kazakhstan         0.0\n",
       "3    Kiribati         0.0\n",
       "4  Seychelles         0.0\n",
       "5     Burundi         0.0\n",
       "6      Monaco         0.0\n",
       "7    Dominica         0.0\n",
       "8       Nauru         0.0\n",
       "9    Djibouti         0.0"
      ]
     },
     "execution_count": 346,
     "metadata": {},
     "output_type": "execute_result"
    }
   ],
   "source": [
    "ten_lowest_quality_article_country = hight_quality_per_country.sort_values()[:10]\n",
    "df_10_lowest_quality_country = pd.DataFrame({\"country\" : ten_lowest_quality_article_country.index,\n",
    "                                                                    \"percentage\" :ten_lowest_quality_article_country.values})\n",
    "df_10_lowest_quality_country "
   ]
  },
  {
   "cell_type": "markdown",
   "metadata": {},
   "source": [
    "### 6. Writeup"
   ]
  },
  {
   "cell_type": "markdown",
   "metadata": {},
   "source": [
    "It is surprised to learn that the big countries, which the countries have huge population such as China or India, they have low number of politician articles per population. However the small country, which the countries has low population, has high yield of politician articles. The same situation happened on high quality article rate. Iceland not only in the top 10 countries in terms of number of politician articles per population but also in the top 10 countries with high quality article rate.\n",
    "There are some bias for this result: \n",
    "1. The article data come from Wikipedia only,  It exist bias in the analysis for  the countries they do not use Wikipedia even these countries have high population. I think the data should have a count for how many people use Wikipedia rather than the population of the country.\n",
    "2. The data is only for English Wiki, it is possible to exist bias for the the countries , which their first language is not English. For example, like big country china, their first language is Chinese. Thus they might have more politician article on Chinese rather than English\n",
    "3. Also for some countries, they don’t have freedom of speech about politics. For example like North Korea, they don’t freedom of speech about politics. This is also possible bias for the result."
   ]
  },
  {
   "cell_type": "code",
   "execution_count": null,
   "metadata": {
    "collapsed": true
   },
   "outputs": [],
   "source": []
  }
 ],
 "metadata": {
  "kernelspec": {
   "display_name": "Python 3",
   "language": "python",
   "name": "python3"
  },
  "language_info": {
   "codemirror_mode": {
    "name": "ipython",
    "version": 3
   },
   "file_extension": ".py",
   "mimetype": "text/x-python",
   "name": "python",
   "nbconvert_exporter": "python",
   "pygments_lexer": "ipython3",
   "version": "3.6.0"
  }
 },
 "nbformat": 4,
 "nbformat_minor": 2
}
